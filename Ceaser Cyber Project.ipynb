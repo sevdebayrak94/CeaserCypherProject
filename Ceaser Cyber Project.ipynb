{
 "cells": [
  {
   "cell_type": "code",
   "execution_count": 79,
   "id": "fb70b17e-12d8-47a1-a0c8-075881b18368",
   "metadata": {},
   "outputs": [],
   "source": [
    "def ceaser(original_text, shift_amount, decode_or_encode):\n",
    "    cypher_text = \"\"\n",
    "    if decode_or_encode == \"encode\":\n",
    "        for letter in original_text:\n",
    "            if letter not in alphabet:\n",
    "                cypher_text += letter\n",
    "            else:\n",
    "                shifted_index = (alphabet.index(letter) + shift_amount)%(len(alphabet))\n",
    "                cypher_text += alphabet[shifted_index]\n",
    "    elif decode_or_encode == \"decode\":\n",
    "        for letter in message:\n",
    "            if letter not in alphabet:\n",
    "                cypher_text += letter\n",
    "            else:\n",
    "                shifted_index = (alphabet.index(letter) - shift_amount)%(len(alphabet))\n",
    "                decrypted_text += alphabet[shifted_index]\n",
    "    print(f\"Here is the encoded result {cypher_text}\")\n",
    "        "
   ]
  },
  {
   "cell_type": "code",
   "execution_count": 85,
   "id": "8551a667-4ee2-4ec1-acfb-520754d6cd0d",
   "metadata": {},
   "outputs": [
    {
     "name": "stdin",
     "output_type": "stream",
     "text": [
      "Type 'encode' to encyript or 'decode' to decrypt:\n",
      " encode\n",
      "Type your message:\n",
      " hello89\n",
      "Type your shift number:\n",
      " 4\n"
     ]
    },
    {
     "name": "stdout",
     "output_type": "stream",
     "text": [
      "Here is the encoded result lipps89\n"
     ]
    },
    {
     "name": "stdin",
     "output_type": "stream",
     "text": [
      "Do you want to continue to play: 'yes' or 'no: ' no\n"
     ]
    }
   ],
   "source": [
    "game_continue = False\n",
    "while not game_continue:\n",
    "    alphabet = ['a', 'b', 'c','d','e', 'f', 'g', 'h', 'i', 'j', 'k', 'l', 'm', 'n', 'o', 'p', 'q', 'r', 's', 't','u', 'v', 'w', 'x', 'y', 'z']\n",
    "    direction = input(\"Type 'encode' to encyript or 'decode' to decrypt:\\n\").lower()\n",
    "    text = input(\"Type your message:\\n\").lower()\n",
    "    shift = int(input(\"Type your shift number:\\n\"))\n",
    "    ceaser(text, shift, direction)\n",
    "    continues = input(\"Do you want to continue to play: 'yes' or 'no: '\")\n",
    "    if continues == \"no\":\n",
    "        game_continue = True\n",
    "    "
   ]
  },
  {
   "cell_type": "code",
   "execution_count": 81,
   "id": "2b840b07-bb00-45a8-a8e0-32f21ffa0609",
   "metadata": {},
   "outputs": [
    {
     "name": "stdout",
     "output_type": "stream",
     "text": [
      "Here is the encoded result lipps6\n"
     ]
    }
   ],
   "source": [
    "ceaser(text, shift, direction)"
   ]
  },
  {
   "cell_type": "code",
   "execution_count": null,
   "id": "9be8777b-290d-4ed4-86ef-2ab62165e161",
   "metadata": {},
   "outputs": [],
   "source": []
  }
 ],
 "metadata": {
  "kernelspec": {
   "display_name": "Python 3 (ipykernel)",
   "language": "python",
   "name": "python3"
  },
  "language_info": {
   "codemirror_mode": {
    "name": "ipython",
    "version": 3
   },
   "file_extension": ".py",
   "mimetype": "text/x-python",
   "name": "python",
   "nbconvert_exporter": "python",
   "pygments_lexer": "ipython3",
   "version": "3.11.7"
  }
 },
 "nbformat": 4,
 "nbformat_minor": 5
}
